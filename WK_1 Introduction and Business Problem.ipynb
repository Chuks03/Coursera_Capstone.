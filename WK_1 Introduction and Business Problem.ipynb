{
    "cells": [
        {
            "cell_type": "markdown",
            "metadata": {
                "collapsed": true
            },
            "source": "## Introduction/Business Problem "
        },
        {
            "cell_type": "markdown",
            "metadata": {},
            "source": "Road accident has been a major human issue for ages, with the government enforcing more safety rules and standards, vehicle manufactures adding more safety feature to their vehicles, the fatality rate of car accident has not really reduced. \n\nA study of Seattle Department of Transportation traffic accident cases from 2004 to 2020, almost 16 years, provides a good insight to some of the reasons behind these accident/collisions. It goes from driving at high speed, alcohol and drug abuse to lack of attention/focus while during driving \u2013 use of cell phone.\n\nOther feature observed from that data includes weather, visibility and road conditions.\nThis project will analyze the collision dataset, find patterns and determinate key factors using various analytical techniques and machine learning classification algorithms such as logistic regression, decision tree analysis, k-nearest-neighbors, support vector machine, etc. and predict the different accidents severity.\n\nThe target audience for this project is as follows:-\n1. The Seattle local government: - it will help improve traffic policies, update public facilities such as streetlight, traffic signs and alert etc. \n2. Police: - Enforcing the law and make sure traffic laws are following and distracted drivers are taken off the road. \n3. Car insurance institutes: - Check drivers license and records before issuing. \n4. ALL DRIVERS: - To follow/obey all traffic signs and laws, knowing that safety is very important and what their family or love ones will pass through if there was an accident.\n\nThe Project's objective is to create a way to warn people based on factors such as weather and road conditions, the possibility of getting into a car accident and how severe it would be. So that the end user can drive more carefully or change travel plans if necessary.\n"
        },
        {
            "cell_type": "code",
            "execution_count": null,
            "metadata": {},
            "outputs": [],
            "source": ""
        }
    ],
    "metadata": {
        "kernelspec": {
            "display_name": "Python 3.6",
            "language": "python",
            "name": "python3"
        },
        "language_info": {
            "codemirror_mode": {
                "name": "ipython",
                "version": 3
            },
            "file_extension": ".py",
            "mimetype": "text/x-python",
            "name": "python",
            "nbconvert_exporter": "python",
            "pygments_lexer": "ipython3",
            "version": "3.6.9"
        }
    },
    "nbformat": 4,
    "nbformat_minor": 1
}